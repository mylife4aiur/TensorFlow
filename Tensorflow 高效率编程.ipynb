{
 "cells": [
  {
   "cell_type": "markdown",
   "metadata": {},
   "source": [
    "# 使用 embedding_lookup 替代置换矩阵（permutation matrix）的乘积"
   ]
  },
  {
   "cell_type": "code",
   "execution_count": 3,
   "metadata": {},
   "outputs": [],
   "source": [
    "import tensorflow as tf\n",
    "import numpy as np\n",
    "from time import time"
   ]
  },
  {
   "cell_type": "code",
   "execution_count": 26,
   "metadata": {},
   "outputs": [
    {
     "name": "stdout",
     "output_type": "stream",
     "text": [
      "look_up 耗时:0.676989s\n",
      "矩阵乘积耗时:0.665630s\n",
      "[[ 0.15286766]\n",
      " [ 0.57794048]\n",
      " [ 0.11328828]\n",
      " [ 0.98778943]\n",
      " [ 0.54111136]]\n",
      "[[ 0.15286766]\n",
      " [ 0.57794048]\n",
      " [ 0.98778943]\n",
      " [ 0.98778943]\n",
      " [ 0.54111136]]\n"
     ]
    }
   ],
   "source": [
    "m = np.random.random([500, 1])\n",
    "\n",
    "# 选择矩阵中的第2和第4行\n",
    "lookup = tf.nn.embedding_lookup(m, [1, 3,4,2,0])\n",
    "\n",
    "permutation_matrix = tf.constant([[0., 1., 0.,0.,0.]+[0]*495,[0., 0., 0.,1.,0.]+[0]*495,[0., 0., 1.,0.,0.]+[0]*495,[0., 0., 1.,0.,0.]+[0]*495,[1., 0., 0.,0.,0.]+[0]*495],dtype='float64')\n",
    "matmul = tf.matmul(permutation_matrix,m)\n",
    "with tf.Session() as sess:\n",
    "    sess.run(tf.global_variables_initializer())\n",
    "    tic=time()\n",
    "    for i in range(10000):\n",
    "        sess.run(lookup)\n",
    "    toc=time()\n",
    "    print('look_up 耗时:{0:6f}s'.format(toc-tic))\n",
    "    tic = time()\n",
    "    for i in range(10000):\n",
    "        sess.run(matmul)\n",
    "    toc = time()\n",
    "    print('矩阵乘积耗时:{0:6f}s'.format(toc - tic))\n",
    "    print(sess.run(lookup))\n",
    "    print(sess.run(matmul))"
   ]
  },
  {
   "cell_type": "code",
   "execution_count": null,
   "metadata": {
    "collapsed": true
   },
   "outputs": [],
   "source": []
  }
 ],
 "metadata": {
  "kernelspec": {
   "display_name": "Tensorflow",
   "language": "python",
   "name": "tensorflow"
  },
  "language_info": {
   "codemirror_mode": {
    "name": "ipython",
    "version": 3
   },
   "file_extension": ".py",
   "mimetype": "text/x-python",
   "name": "python",
   "nbconvert_exporter": "python",
   "pygments_lexer": "ipython3",
   "version": "3.6.1"
  }
 },
 "nbformat": 4,
 "nbformat_minor": 2
}
