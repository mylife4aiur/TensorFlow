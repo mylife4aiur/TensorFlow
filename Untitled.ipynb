{
 "cells": [
  {
   "cell_type": "code",
   "execution_count": 1,
   "metadata": {
    "collapsed": true
   },
   "outputs": [],
   "source": [
    "import tensorflow as tf"
   ]
  },
  {
   "cell_type": "code",
   "execution_count": 2,
   "metadata": {
    "collapsed": true
   },
   "outputs": [],
   "source": [
    "import numpy as np"
   ]
  },
  {
   "cell_type": "code",
   "execution_count": 21,
   "metadata": {
    "collapsed": true
   },
   "outputs": [],
   "source": [
    "a1=np.random.rand(10,2,5)\n",
    "a2=np.random.rand(10,2,4)"
   ]
  },
  {
   "cell_type": "code",
   "execution_count": 22,
   "metadata": {
    "collapsed": true
   },
   "outputs": [],
   "source": [
    "A1=tf.constant(a1)\n",
    "A2=tf.constant(a2)"
   ]
  },
  {
   "cell_type": "code",
   "execution_count": 23,
   "metadata": {},
   "outputs": [],
   "source": [
    "A=tf.concat([A1, A2],2)"
   ]
  },
  {
   "cell_type": "code",
   "execution_count": 24,
   "metadata": {},
   "outputs": [
    {
     "data": {
      "text/plain": [
       "TensorShape([Dimension(10), Dimension(2), Dimension(9)])"
      ]
     },
     "execution_count": 24,
     "metadata": {},
     "output_type": "execute_result"
    }
   ],
   "source": [
    "np.shape(A)"
   ]
  },
  {
   "cell_type": "markdown",
   "metadata": {},
   "source": [
    "## tf.slice\n",
    "```python\n",
    "slice(\n",
    "    input,\n",
    "    begin,\n",
    "    size,\n",
    "    name=None\n",
    ")\n",
    "```\n",
    "\n",
    "Extracts a slice from a tensor.\n",
    "从一个 tensor 中抽取一个切片\n",
    "\n",
    "```slice``` 函数从 ```begin``` 参数确定的位置开始，在传入的 ```input``` tensor 中抽取一个 ```size``` 大小的切片。\n",
    "切片的大小\n",
    "This operation extracts a slice of size size from a tensor input starting at the location specified by begin. \n",
    "\n",
    "The slice size is represented as a tensor shape, where size[i] is the number of elements of the 'i'th dimension of input that you want to slice. \n",
    "\n",
    "The starting location (begin) for the slice is represented as an offset in each dimension of input. In other words, begin[i] is the offset into the 'i'th dimension of input that you want to slice from.\n",
    "\n",
    "Note that tf.Tensor.__getitem__ is typically a more pythonic way to perform slices, as it allows you to write foo[3:7, :-2] instead of tf.slice([3, 0], [4, foo.get_shape()[1]-2]).\n",
    "\n",
    "begin is zero-based; size is one-based. If size[i] is -1, all remaining elements in dimension i are included in the slice. In other words, this is equivalent to setting:\n",
    "\n",
    "size[i] = input.dim_size(i) - begin[i]\n",
    "\n",
    "This operation requires that:\n",
    "\n",
    "0 <= begin[i] <= begin[i] + size[i] <= Di for i in [0, n]\n"
   ]
  },
  {
   "cell_type": "code",
   "execution_count": 42,
   "metadata": {},
   "outputs": [],
   "source": [
    "x = tf.slice(A, [0,0,0], [10, 2,5])"
   ]
  },
  {
   "cell_type": "code",
   "execution_count": 43,
   "metadata": {},
   "outputs": [
    {
     "data": {
      "text/plain": [
       "TensorShape([Dimension(10), Dimension(2), Dimension(5)])"
      ]
     },
     "execution_count": 43,
     "metadata": {},
     "output_type": "execute_result"
    }
   ],
   "source": [
    "np.shape(x)"
   ]
  },
  {
   "cell_type": "code",
   "execution_count": 34,
   "metadata": {},
   "outputs": [],
   "source": [
    "sess = tf.InteractiveSession()"
   ]
  },
  {
   "cell_type": "code",
   "execution_count": 46,
   "metadata": {},
   "outputs": [
    {
     "data": {
      "text/plain": [
       "array([[[ 0.39163607,  0.22274915,  0.89964508,  0.82535164,  0.21966684],\n",
       "        [ 0.39044789,  0.57492424,  0.65630799,  0.74366977,  0.01644286]],\n",
       "\n",
       "       [[ 0.41803902,  0.30585903,  0.95877928,  0.72028919,  0.35858568],\n",
       "        [ 0.42877677,  0.47024538,  0.23317398,  0.78232933,  0.69526439]],\n",
       "\n",
       "       [[ 0.77422731,  0.77874607,  0.04744518,  0.47643538,  0.17813356],\n",
       "        [ 0.41999149,  0.43325466,  0.76531626,  0.84849868,  0.42194036]],\n",
       "\n",
       "       [[ 0.24957686,  0.36074905,  0.92144364,  0.16677233,  0.77371399],\n",
       "        [ 0.12219873,  0.97791696,  0.13882191,  0.02551567,  0.74947947]],\n",
       "\n",
       "       [[ 0.00510345,  0.26336271,  0.27963879,  0.72218844,  0.37676817],\n",
       "        [ 0.00290459,  0.50075443,  0.4046979 ,  0.10074791,  0.72430105]],\n",
       "\n",
       "       [[ 0.19877147,  0.34275161,  0.63119655,  0.28748491,  0.82919422],\n",
       "        [ 0.92090254,  0.46533911,  0.62358934,  0.36526434,  0.65959699]],\n",
       "\n",
       "       [[ 0.71279128,  0.25360778,  0.20470484,  0.32107406,  0.04278761],\n",
       "        [ 0.64344842,  0.86754408,  0.51627877,  0.02577334,  0.6828743 ]],\n",
       "\n",
       "       [[ 0.27544445,  0.57930558,  0.69192227,  0.43998366,  0.00923593],\n",
       "        [ 0.00324025,  0.13291233,  0.62902564,  0.68051246,  0.699704  ]],\n",
       "\n",
       "       [[ 0.34265754,  0.23287834,  0.24378537,  0.32189223,  0.81339232],\n",
       "        [ 0.72177664,  0.17859827,  0.49866995,  0.08600982,  0.70883261]],\n",
       "\n",
       "       [[ 0.91222964,  0.57230853,  0.32493387,  0.21096261,  0.85008347],\n",
       "        [ 0.15514911,  0.29864877,  0.95766189,  0.41287709,  0.65162239]]])"
      ]
     },
     "execution_count": 46,
     "metadata": {},
     "output_type": "execute_result"
    }
   ],
   "source": [
    "x[:,:,:5].eval()"
   ]
  },
  {
   "cell_type": "code",
   "execution_count": 47,
   "metadata": {},
   "outputs": [
    {
     "data": {
      "text/plain": [
       "array([[[ 0.39163607,  0.22274915,  0.89964508,  0.82535164,  0.21966684],\n",
       "        [ 0.39044789,  0.57492424,  0.65630799,  0.74366977,  0.01644286]],\n",
       "\n",
       "       [[ 0.41803902,  0.30585903,  0.95877928,  0.72028919,  0.35858568],\n",
       "        [ 0.42877677,  0.47024538,  0.23317398,  0.78232933,  0.69526439]],\n",
       "\n",
       "       [[ 0.77422731,  0.77874607,  0.04744518,  0.47643538,  0.17813356],\n",
       "        [ 0.41999149,  0.43325466,  0.76531626,  0.84849868,  0.42194036]],\n",
       "\n",
       "       [[ 0.24957686,  0.36074905,  0.92144364,  0.16677233,  0.77371399],\n",
       "        [ 0.12219873,  0.97791696,  0.13882191,  0.02551567,  0.74947947]],\n",
       "\n",
       "       [[ 0.00510345,  0.26336271,  0.27963879,  0.72218844,  0.37676817],\n",
       "        [ 0.00290459,  0.50075443,  0.4046979 ,  0.10074791,  0.72430105]],\n",
       "\n",
       "       [[ 0.19877147,  0.34275161,  0.63119655,  0.28748491,  0.82919422],\n",
       "        [ 0.92090254,  0.46533911,  0.62358934,  0.36526434,  0.65959699]],\n",
       "\n",
       "       [[ 0.71279128,  0.25360778,  0.20470484,  0.32107406,  0.04278761],\n",
       "        [ 0.64344842,  0.86754408,  0.51627877,  0.02577334,  0.6828743 ]],\n",
       "\n",
       "       [[ 0.27544445,  0.57930558,  0.69192227,  0.43998366,  0.00923593],\n",
       "        [ 0.00324025,  0.13291233,  0.62902564,  0.68051246,  0.699704  ]],\n",
       "\n",
       "       [[ 0.34265754,  0.23287834,  0.24378537,  0.32189223,  0.81339232],\n",
       "        [ 0.72177664,  0.17859827,  0.49866995,  0.08600982,  0.70883261]],\n",
       "\n",
       "       [[ 0.91222964,  0.57230853,  0.32493387,  0.21096261,  0.85008347],\n",
       "        [ 0.15514911,  0.29864877,  0.95766189,  0.41287709,  0.65162239]]])"
      ]
     },
     "execution_count": 47,
     "metadata": {},
     "output_type": "execute_result"
    }
   ],
   "source": [
    "a1"
   ]
  },
  {
   "cell_type": "code",
   "execution_count": 48,
   "metadata": {
    "collapsed": true
   },
   "outputs": [],
   "source": [
    "all_outputs=tf.constant([[[1],[2]],[[3],[4]]])"
   ]
  },
  {
   "cell_type": "code",
   "execution_count": 50,
   "metadata": {},
   "outputs": [
    {
     "data": {
      "text/plain": [
       "<tf.Tensor 'Const_8:0' shape=(2, 2, 1) dtype=int32>"
      ]
     },
     "execution_count": 50,
     "metadata": {},
     "output_type": "execute_result"
    }
   ],
   "source": [
    "all_outputs"
   ]
  },
  {
   "cell_type": "code",
   "execution_count": 52,
   "metadata": {},
   "outputs": [
    {
     "data": {
      "text/plain": [
       "Dimension(2)"
      ]
     },
     "execution_count": 52,
     "metadata": {},
     "output_type": "execute_result"
    }
   ],
   "source": [
    "all_outputs.get_shape()[0]"
   ]
  },
  {
   "cell_type": "code",
   "execution_count": 62,
   "metadata": {},
   "outputs": [],
   "source": [
    "tmp=tf.slice(all_outputs,[1, 0,0], [1, 2,1])"
   ]
  },
  {
   "cell_type": "code",
   "execution_count": 63,
   "metadata": {},
   "outputs": [
    {
     "data": {
      "text/plain": [
       "array([[[3],\n",
       "        [4]]], dtype=int32)"
      ]
     },
     "execution_count": 63,
     "metadata": {},
     "output_type": "execute_result"
    }
   ],
   "source": [
    "tmp.eval()"
   ]
  },
  {
   "cell_type": "code",
   "execution_count": null,
   "metadata": {
    "collapsed": true
   },
   "outputs": [],
   "source": []
  }
 ],
 "metadata": {
  "kernelspec": {
   "display_name": "Tensorflow",
   "language": "python",
   "name": "tensorflow"
  },
  "language_info": {
   "codemirror_mode": {
    "name": "ipython",
    "version": 3
   },
   "file_extension": ".py",
   "mimetype": "text/x-python",
   "name": "python",
   "nbconvert_exporter": "python",
   "pygments_lexer": "ipython3",
   "version": "3.6.1"
  }
 },
 "nbformat": 4,
 "nbformat_minor": 2
}
